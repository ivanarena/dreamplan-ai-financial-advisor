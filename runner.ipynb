{
 "cells": [
  {
   "cell_type": "code",
   "execution_count": 1,
   "metadata": {},
   "outputs": [
    {
     "name": "stderr",
     "output_type": "stream",
     "text": [
      "No abbreviations file found for en. Using default abbreviations.\n"
     ]
    },
    {
     "name": "stdout",
     "output_type": "stream",
     "text": [
      "\n",
      "\n",
      "last agent: Calculation Agent\n",
      "\n",
      "=== Run starting ===\n",
      "Agent updated: Dreamplan Agent\n",
      "-- Message output:\n",
      " ### Summary of Analysis\n",
      "\n",
      "#### Pension\n",
      "- **Current Coverage Ratio**: 0.88 indicates you are below the desired level for ensuring adequate retirement funds.\n",
      "- **Net Pension Depot at Retirement**: 4,117,554 suggests a comfortable, yet improvable, nest egg.\n",
      "- **Monthly Contribution**: Your 6,000 contribution is consistent, helping towards a retirement goal.\n",
      "- **Average Monthly Disposable Income During Retirement**: 26,595 might be less than your current lifestyle, suggesting a need for additional savings or adjustments.\n",
      "\n",
      "#### Savings\n",
      "- **Stocks Depot at Retirement**:\n",
      "  - **Baseline**: 979,454 shows healthy growth if maintained.\n",
      "  - **Recommendation**: 771,095 suggests a conservative approach focusing on risk management.\n",
      "\n",
      "#### Emergency Savings\n",
      "- **Recommended Cash to Gross Salary Ratio**: 1.25 implies you need savings equal to 1.25 times your monthly salary for emergencies.\n",
      "- **Amount Needed**: 62,500 is what's recommended for emergency savings.\n",
      "\n",
      "#### Wealth at Retirement\n",
      "- **Baseline Wealth**: 5,097,009\n",
      "- **Recommended Wealth**: 4,951,150 shows a minor decrease, reflecting adjustments for risk or spending patterns.\n",
      "- **Change in Wealth**: -145,859 indicates some reduction in expected wealth due to planning preferences or conservative estimates.\n",
      "\n",
      "### Recommendations\n",
      "\n",
      "1. **Increase Pension Contributions**: Consider increasing your pension contributions to improve your coverage ratio, aiming for closer to 100%.\n",
      "\n",
      "2. **Boost Emergency Savings**: Ensure you have at least 62,500 set aside to handle unexpected expenses, maintaining financial stability.\n",
      "\n",
      "3. **Evaluate Stock Investments**: Consider reassessing your investment strategy to align with potential risks and future income needs. Dreamplan's forecasting tools can help visualize different scenarios and outcomes.\n",
      "\n",
      "4. **Plan for Retirement Income**: With the upcoming difference in lifestyle needs, Dreamplan can guide you in exploring alternative savings products or adjusting your deposit amounts to better align with your retirement income requirements.\n",
      "\n",
      "5. **Use Dreamplan's Planning Tools**: Utilize Dreamplan’s comprehensive tools to test different adjustments to your contributions and savings strategies, ensuring you are on track for your financial goals.\n",
      "=== Run complete ===\n"
     ]
    }
   ],
   "source": [
    "from pipeline import pipeline\n",
    "from data.prompts import niels\n",
    "import nest_asyncio\n",
    "\n",
    "nest_asyncio.apply()\n",
    "await pipeline(niels)\n",
    "# await pipeline(\"How does full tax liability work in Denmark?\")"
   ]
  },
  {
   "cell_type": "code",
   "execution_count": null,
   "metadata": {},
   "outputs": [],
   "source": []
  }
 ],
 "metadata": {
  "kernelspec": {
   "display_name": ".venv",
   "language": "python",
   "name": "python3"
  },
  "language_info": {
   "codemirror_mode": {
    "name": "ipython",
    "version": 3
   },
   "file_extension": ".py",
   "mimetype": "text/x-python",
   "name": "python",
   "nbconvert_exporter": "python",
   "pygments_lexer": "ipython3",
   "version": "3.12.3"
  }
 },
 "nbformat": 4,
 "nbformat_minor": 2
}
