{
 "cells": [
  {
   "cell_type": "code",
   "execution_count": 2,
   "metadata": {},
   "outputs": [
    {
     "data": {
      "text/plain": [
       "{'replies': ['The different types of taxes in Denmark include:\\n\\n- **Direct taxes**: Taxes deducted from income, property, land, interest, and business profits (e.g., A-tax, B-tax, property tax, land tax, church tax) (Document 1).\\n- **Indirect taxes**: Taxes on goods and services, such as VAT, green taxes, excise duties, and customs duties (Document 1).'],\n",
       " 'meta': [{'model': 'gpt-4.1-nano-2025-04-14',\n",
       "   'index': 0,\n",
       "   'finish_reason': 'stop',\n",
       "   'usage': {'completion_tokens': 84,\n",
       "    'prompt_tokens': 8612,\n",
       "    'total_tokens': 8696,\n",
       "    'completion_tokens_details': CompletionTokensDetails(accepted_prediction_tokens=0, audio_tokens=0, reasoning_tokens=0, rejected_prediction_tokens=0),\n",
       "    'prompt_tokens_details': PromptTokensDetails(audio_tokens=0, cached_tokens=0)}}]}"
      ]
     },
     "execution_count": 2,
     "metadata": {},
     "output_type": "execute_result"
    }
   ],
   "source": [
    "from rag import rag\n",
    "\n",
    "# query = \"How does taxation work in Denmark?\"\n",
    "query = \"What are the different types of taxes in denmark?\"\n",
    "result = rag.run(\n",
    "    data={\n",
    "        \"retriever\": {\"query\": query},\n",
    "        \"ranker\": {\"query\": query},\n",
    "        \"prompt_builder\": {\"question\": query}\n",
    "    }\n",
    ")\n",
    "result[\"generator\"]\n"
   ]
  },
  {
   "cell_type": "code",
   "execution_count": null,
   "metadata": {},
   "outputs": [],
   "source": []
  }
 ],
 "metadata": {
  "kernelspec": {
   "display_name": ".venv",
   "language": "python",
   "name": "python3"
  },
  "language_info": {
   "codemirror_mode": {
    "name": "ipython",
    "version": 3
   },
   "file_extension": ".py",
   "mimetype": "text/x-python",
   "name": "python",
   "nbconvert_exporter": "python",
   "pygments_lexer": "ipython3",
   "version": "3.12.3"
  }
 },
 "nbformat": 4,
 "nbformat_minor": 2
}
