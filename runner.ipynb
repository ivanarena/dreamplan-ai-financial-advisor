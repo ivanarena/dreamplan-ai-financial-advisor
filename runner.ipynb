{
 "cells": [
  {
   "cell_type": "code",
   "execution_count": null,
   "metadata": {},
   "outputs": [],
   "source": [
    "from pipeline import pipeline\n",
    "from data.prompts import niels\n",
    "import nest_asyncio\n",
    "\n",
    "nest_asyncio.apply()\n",
    "# await pipeline(niels)\n",
    "await pipeline(\"How does full tax liability work in Denmark?\")"
   ]
  },
  {
   "cell_type": "code",
   "execution_count": 1,
   "metadata": {},
   "outputs": [
    {
     "name": "stderr",
     "output_type": "stream",
     "text": [
      "No abbreviations file found for en. Using default abbreviations.\n"
     ]
    },
    {
     "data": {
      "text/plain": [
       "{'replies': ['Taxation in Denmark is based on a progressive system where all residents with income pay taxes that fund the welfare state, including healthcare, education, and social benefits (Document 1). Taxes include direct taxes—such as income tax, property tax, and land tax—and indirect taxes like VAT, green taxes, excise duties, and customs duties. The income tax is divided into state tax (with bottom- and top-bracket rates), municipal tax, and church tax if applicable. Employees and self-employed individuals also contribute to labor market and ATP funds. Overall, everyone contributing helps finance public services and social security (Document 1).'],\n",
       " 'meta': [{'model': 'gpt-4.1-nano-2025-04-14',\n",
       "   'index': 0,\n",
       "   'finish_reason': 'stop',\n",
       "   'usage': {'completion_tokens': 126,\n",
       "    'prompt_tokens': 1901,\n",
       "    'total_tokens': 2027,\n",
       "    'completion_tokens_details': CompletionTokensDetails(accepted_prediction_tokens=0, audio_tokens=0, reasoning_tokens=0, rejected_prediction_tokens=0),\n",
       "    'prompt_tokens_details': PromptTokensDetails(audio_tokens=0, cached_tokens=0)}}]}"
      ]
     },
     "execution_count": 1,
     "metadata": {},
     "output_type": "execute_result"
    }
   ],
   "source": [
    "from rag import rag\n",
    "\n",
    "query = \"How does taxation work in Denmark?\"\n",
    "result = rag.run(\n",
    "    data={\n",
    "        \"retriever\": {\"query\": query},\n",
    "        \"ranker\": {\"query\": query},\n",
    "        \"prompt_builder\": {\"question\": query}\n",
    "    }\n",
    ")\n",
    "result[\"generator\"]\n"
   ]
  },
  {
   "cell_type": "code",
   "execution_count": null,
   "metadata": {},
   "outputs": [],
   "source": []
  }
 ],
 "metadata": {
  "kernelspec": {
   "display_name": ".venv",
   "language": "python",
   "name": "python3"
  },
  "language_info": {
   "codemirror_mode": {
    "name": "ipython",
    "version": 3
   },
   "file_extension": ".py",
   "mimetype": "text/x-python",
   "name": "python",
   "nbconvert_exporter": "python",
   "pygments_lexer": "ipython3",
   "version": "3.12.3"
  }
 },
 "nbformat": 4,
 "nbformat_minor": 2
}
