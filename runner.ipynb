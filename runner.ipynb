{
 "cells": [
  {
   "cell_type": "code",
   "execution_count": 1,
   "metadata": {},
   "outputs": [
    {
     "name": "stderr",
     "output_type": "stream",
     "text": [
      "No abbreviations file found for en. Using default abbreviations.\n"
     ]
    },
    {
     "data": {
      "text/plain": [
       "{'replies': ['The different types of taxes in Denmark include:\\n\\n1. **Direct taxes**: Taxes deducted directly from income, such as income tax (A-tax, B-tax), property and land taxes, and state taxes (bottom-bracket and top-bracket). Citizens also pay municipal tax and church tax if applicable (Document 1).\\n\\n2. **Indirect taxes**: Taxes paid via goods and services, including VAT, customs duties, green taxes, and excise duties. These are included in the prices of goods and services (Document 1).'],\n",
       " 'meta': [{'model': 'gpt-4.1-nano-2025-04-14',\n",
       "   'index': 0,\n",
       "   'finish_reason': 'stop',\n",
       "   'usage': {'completion_tokens': 108,\n",
       "    'prompt_tokens': 8612,\n",
       "    'total_tokens': 8720,\n",
       "    'completion_tokens_details': CompletionTokensDetails(accepted_prediction_tokens=0, audio_tokens=0, reasoning_tokens=0, rejected_prediction_tokens=0),\n",
       "    'prompt_tokens_details': PromptTokensDetails(audio_tokens=0, cached_tokens=0)}}]}"
      ]
     },
     "execution_count": 1,
     "metadata": {},
     "output_type": "execute_result"
    }
   ],
   "source": [
    "from rag import RAG\n",
    "\n",
    "# query = \"How does taxation work in Denmark?\"\n",
    "query = \"What are the different types of taxes in denmark?\"\n",
    "rag = RAG().get_pipeline()\n",
    "result = rag.run(\n",
    "    data={\n",
    "        \"retriever\": {\"query\": query},\n",
    "        \"ranker\": {\"query\": query},\n",
    "        \"prompt_builder\": {\"question\": query}\n",
    "    }\n",
    ")\n",
    "result[\"generator\"]\n"
   ]
  },
  {
   "cell_type": "code",
   "execution_count": null,
   "metadata": {},
   "outputs": [],
   "source": []
  }
 ],
 "metadata": {
  "kernelspec": {
   "display_name": ".venv",
   "language": "python",
   "name": "python3"
  },
  "language_info": {
   "codemirror_mode": {
    "name": "ipython",
    "version": 3
   },
   "file_extension": ".py",
   "mimetype": "text/x-python",
   "name": "python",
   "nbconvert_exporter": "python",
   "pygments_lexer": "ipython3",
   "version": "3.12.3"
  }
 },
 "nbformat": 4,
 "nbformat_minor": 2
}
