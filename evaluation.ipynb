{
 "cells": [
  {
   "cell_type": "markdown",
   "id": "0e792e5b",
   "metadata": {},
   "source": [
    "# Notebook for running evaluations"
   ]
  },
  {
   "cell_type": "code",
   "execution_count": null,
   "id": "b0f6192e",
   "metadata": {},
   "outputs": [
    {
     "name": "stderr",
     "output_type": "stream",
     "text": [
      "No abbreviations file found for en. Using default abbreviations.\n",
      "PromptBuilder has 2 prompt variables, but `required_variables` is not set. By default, all prompt variables are treated as optional, which may lead to unintended behavior in multi-branch pipelines. To avoid unexpected execution, ensure that variables intended to be required are explicitly set in `required_variables`.\n"
     ]
    }
   ],
   "source": [
    "from evaluation.evaluations import evaluate_dispatching, evaluate_rag\n",
    "import nest_asyncio\n",
    "nest_asyncio.apply()"
   ]
  },
  {
   "cell_type": "code",
   "execution_count": 2,
   "id": "e596d6ed",
   "metadata": {},
   "outputs": [
    {
     "name": "stdout",
     "output_type": "stream",
     "text": [
      "7 correctly dispatched prompts out of 7.\n"
     ]
    }
   ],
   "source": [
    "\n",
    "await evaluate_dispatching()"
   ]
  },
  {
   "cell_type": "code",
   "execution_count": null,
   "id": "572d7c23",
   "metadata": {},
   "outputs": [],
   "source": [
    "rag_df = await evaluate_rag()"
   ]
  }
 ],
 "metadata": {
  "kernelspec": {
   "display_name": ".venv",
   "language": "python",
   "name": "python3"
  },
  "language_info": {
   "codemirror_mode": {
    "name": "ipython",
    "version": 3
   },
   "file_extension": ".py",
   "mimetype": "text/x-python",
   "name": "python",
   "nbconvert_exporter": "python",
   "pygments_lexer": "ipython3",
   "version": "3.12.3"
  }
 },
 "nbformat": 4,
 "nbformat_minor": 5
}
