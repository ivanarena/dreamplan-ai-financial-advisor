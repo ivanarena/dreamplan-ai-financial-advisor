{
 "cells": [
  {
   "cell_type": "markdown",
   "id": "0e792e5b",
   "metadata": {},
   "source": [
    "# Notebook for running evaluations"
   ]
  },
  {
   "cell_type": "code",
   "execution_count": null,
   "id": "b0f6192e",
   "metadata": {},
   "outputs": [],
   "source": [
    "from evaluation.evaluations import evaluate_dispatching, evaluate_rag\n",
    "import nest_asyncio\n",
    "nest_asyncio.apply()"
   ]
  },
  {
   "cell_type": "code",
   "execution_count": null,
   "id": "572d7c23",
   "metadata": {},
   "outputs": [],
   "source": [
    "rag_df = await evaluate_rag()"
   ]
  },
  {
   "cell_type": "code",
   "execution_count": null,
   "id": "e596d6ed",
   "metadata": {},
   "outputs": [],
   "source": [
    "\n",
    "await evaluate_dispatching()"
   ]
  }
 ],
 "metadata": {
  "kernelspec": {
   "display_name": ".venv",
   "language": "python",
   "name": "python3"
  },
  "language_info": {
   "codemirror_mode": {
    "name": "ipython",
    "version": 3
   },
   "file_extension": ".py",
   "mimetype": "text/x-python",
   "name": "python",
   "nbconvert_exporter": "python",
   "pygments_lexer": "ipython3",
   "version": "3.12.3"
  }
 },
 "nbformat": 4,
 "nbformat_minor": 5
}
